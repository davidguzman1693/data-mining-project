{
  "nbformat": 4,
  "nbformat_minor": 0,
  "metadata": {
    "colab": {
      "name": "Online-clustering-tweets",
      "provenance": [],
      "collapsed_sections": []
    },
    "kernelspec": {
      "name": "python3",
      "display_name": "Python 3"
    },
    "accelerator": "GPU"
  },
  "cells": [
    {
      "cell_type": "markdown",
      "metadata": {
        "id": "5gvpmsBljrU_"
      },
      "source": [
        "#**Usage of drive**\n",
        "First step is to load the drive where we have the datasets.\n"
      ]
    },
    {
      "cell_type": "code",
      "metadata": {
        "id": "5SlT_HZQjPLD",
        "colab": {
          "base_uri": "https://localhost:8080/"
        },
        "outputId": "50118674-16b4-489e-cbc8-3db496bf70bb"
      },
      "source": [
        "import os\n",
        "from google.colab import drive \n",
        "drive.mount('/content/drive') \n",
        "import pandas as pd\n",
        "import glob"
      ],
      "execution_count": null,
      "outputs": [
        {
          "output_type": "stream",
          "text": [
            "Mounted at /content/drive\n"
          ],
          "name": "stdout"
        }
      ]
    },
    {
      "cell_type": "code",
      "metadata": {
        "id": "duUEnGZA5-zu"
      },
      "source": [
        "pd.options.display.max_colwidth = 200"
      ],
      "execution_count": null,
      "outputs": []
    },
    {
      "cell_type": "markdown",
      "metadata": {
        "id": "ZLAhhiKnCfyf"
      },
      "source": [
        "#**Read data from the dataset**\n",
        "Now, we proceed to read the data from dataset and remove useless data for clustering. "
      ]
    },
    {
      "cell_type": "code",
      "metadata": {
        "id": "Ll-LrIw-kKwW",
        "colab": {
          "base_uri": "https://localhost:8080/"
        },
        "outputId": "80e9307d-30e5-47cd-83a9-0d3e6328feed"
      },
      "source": [
        "path = r'/content/drive/MyDrive/data-mining/OnlineClustering/balanced-csv' # use your path\n",
        "all_files = glob.glob(path + \"/*.csv\")\n",
        "\n",
        "li = []\n",
        "\n",
        "for filename in all_files:\n",
        "    df = pd.read_csv(filename, index_col=None, encoding='ISO-8859-1', header=0)\n",
        "    li.append(df)\n",
        "\n",
        "trainingFrame = pd.concat(li, axis=0, ignore_index=True)\n",
        "print (\"Training data set ready\")\n",
        "#Delete unrelevant data from DT\n",
        "trainingFrame.drop(trainingFrame.columns[[1,2,3,4,5,6,8,9]], axis=1,inplace=True)\n",
        "\n",
        "testingFrame = pd.read_csv('/content/drive/MyDrive/data-mining/OnlineClustering/test/test.csv', index_col=None, encoding='ISO-8859-1', header=0)\n",
        "#Delete unrevelant data from DT\n",
        "testingFrame.drop(testingFrame.columns[[1,2,3,4,5,6,8,9]], axis=1,inplace=True)\n",
        "print(\"Testing data set ready\")"
      ],
      "execution_count": null,
      "outputs": [
        {
          "output_type": "stream",
          "text": [
            "Training data set ready\n",
            "Testing data set ready\n"
          ],
          "name": "stdout"
        }
      ]
    },
    {
      "cell_type": "code",
      "metadata": {
        "id": "fW6XRdfVTspl",
        "colab": {
          "base_uri": "https://localhost:8080/",
          "height": 271
        },
        "outputId": "1ff5fae0-16bc-4539-f133-fd1e1ead3d70"
      },
      "source": [
        "testingFrame.head(10)"
      ],
      "execution_count": null,
      "outputs": [
        {
          "output_type": "execute_result",
          "data": {
            "text/html": [
              "<div>\n",
              "<style scoped>\n",
              "    .dataframe tbody tr th:only-of-type {\n",
              "        vertical-align: middle;\n",
              "    }\n",
              "\n",
              "    .dataframe tbody tr th {\n",
              "        vertical-align: top;\n",
              "    }\n",
              "\n",
              "    .dataframe thead th {\n",
              "        text-align: right;\n",
              "    }\n",
              "</style>\n",
              "<table border=\"1\" class=\"dataframe\">\n",
              "  <thead>\n",
              "    <tr style=\"text-align: right;\">\n",
              "      <th></th>\n",
              "      <th>tweet_id</th>\n",
              "      <th>tweet_text</th>\n",
              "    </tr>\n",
              "  </thead>\n",
              "  <tbody>\n",
              "    <tr>\n",
              "      <th>0</th>\n",
              "      <td>'591903085670215681'</td>\n",
              "      <td>Dua's for all those affected by the earthquakes in India,Nepal &amp;amp; Bhutan. Stay safe &amp;amp; help others in any form. #Equake http://t.co/M6YG0k4FKh</td>\n",
              "    </tr>\n",
              "    <tr>\n",
              "      <th>1</th>\n",
              "      <td>'511481629932785664'</td>\n",
              "      <td>Odile's Remnants Could Bring More Flooding to the Southwest http://t.co/3jLTwTl56i</td>\n",
              "    </tr>\n",
              "    <tr>\n",
              "      <th>2</th>\n",
              "      <td>'503956894495436801'</td>\n",
              "      <td>Iceland Evacuates Area Near Bardabunga Volcano Over Eruption Concerns http://t.co/l0W3vQqjhJ #socialmedia #SMS</td>\n",
              "    </tr>\n",
              "    <tr>\n",
              "      <th>3</th>\n",
              "      <td>'474176288924925952'</td>\n",
              "      <td>Malaysian man comes up short after buying &amp;amp;pound;100 penis enlarger... http://t.co/RTbiJI3HFS #WhereIsTheFuckingPlane.com #MH370</td>\n",
              "    </tr>\n",
              "    <tr>\n",
              "      <th>4</th>\n",
              "      <td>'460399646729601024'</td>\n",
              "      <td>Scary  time friends, MERS (Middle East Respiratory Syndrome) took  more lives we all must need to be careful friends....!!!</td>\n",
              "    </tr>\n",
              "    <tr>\n",
              "      <th>5</th>\n",
              "      <td>'541099467320356864'</td>\n",
              "      <td>Rains Lash Disaster-Weary Philippines as Typhoon Nears #World #Politics http://t.co/Ldv0mOef9x</td>\n",
              "    </tr>\n",
              "    <tr>\n",
              "      <th>6</th>\n",
              "      <td>'575736803677761536'</td>\n",
              "      <td>Advice from BOM: Cyclone Nathan category 2, moving slowly southwest towards the coast #tcnathan #TCNathan #bigwet http://t.co/tfV7pfhPNJ</td>\n",
              "    </tr>\n",
              "  </tbody>\n",
              "</table>\n",
              "</div>"
            ],
            "text/plain": [
              "               tweet_id                                                                                                                                            tweet_text\n",
              "0  '591903085670215681'  Dua's for all those affected by the earthquakes in India,Nepal &amp; Bhutan. Stay safe &amp; help others in any form. #Equake http://t.co/M6YG0k4FKh\n",
              "1  '511481629932785664'                                                                    Odile's Remnants Could Bring More Flooding to the Southwest http://t.co/3jLTwTl56i\n",
              "2  '503956894495436801'                                        Iceland Evacuates Area Near Bardabunga Volcano Over Eruption Concerns http://t.co/l0W3vQqjhJ #socialmedia #SMS\n",
              "3  '474176288924925952'                  Malaysian man comes up short after buying &amp;pound;100 penis enlarger... http://t.co/RTbiJI3HFS #WhereIsTheFuckingPlane.com #MH370\n",
              "4  '460399646729601024'                           Scary  time friends, MERS (Middle East Respiratory Syndrome) took  more lives we all must need to be careful friends....!!!\n",
              "5  '541099467320356864'                                                        Rains Lash Disaster-Weary Philippines as Typhoon Nears #World #Politics http://t.co/Ldv0mOef9x\n",
              "6  '575736803677761536'              Advice from BOM: Cyclone Nathan category 2, moving slowly southwest towards the coast #tcnathan #TCNathan #bigwet http://t.co/tfV7pfhPNJ"
            ]
          },
          "metadata": {
            "tags": []
          },
          "execution_count": 6
        }
      ]
    },
    {
      "cell_type": "markdown",
      "metadata": {
        "id": "SOAz8UkUWrY7"
      },
      "source": [
        "#**Preprocessing tweets**\n",
        "\n",
        "The next functions allow to pre-process each tweet in order to extract stop words, remove short and useless words, and also to apply a normalization strategy such as lemmatization and stemming. "
      ]
    },
    {
      "cell_type": "code",
      "metadata": {
        "id": "5R-GIXQAvBe7",
        "colab": {
          "base_uri": "https://localhost:8080/"
        },
        "outputId": "c6962839-8207-4f0d-a03c-870f5e7360b8"
      },
      "source": [
        "import nltk\n",
        "from nltk.tokenize import TweetTokenizer\n",
        "from nltk.stem import PorterStemmer\n",
        "from nltk.stem import SnowballStemmer\n",
        "from nltk.stem import WordNetLemmatizer \n",
        "\n",
        "nltk.download('stopwords')\n",
        "from nltk.corpus import stopwords \n",
        "import re\n",
        "import string\n",
        "\n",
        "\n",
        "nltk.download('wordnet')\n",
        "  \n",
        "lemmatizer = WordNetLemmatizer() \n",
        "\n",
        "tknzr = TweetTokenizer(preserve_case=False, reduce_len=True, strip_handles=True)\n",
        "\n",
        "#stemmer = PorterStemmer()\n",
        "stemmer = SnowballStemmer(\"english\") #snowball is faster, improvement of Porter stemmer\n",
        "\n",
        "stop_words_en = set(stopwords.words('english')) \n",
        "stop_words_es = set(stopwords.words('spanish')) \n",
        "excluded = set(string.punctuation.replace('#','').replace('@',''))\n",
        "\n",
        "def stopWordsTextEnglish(word_tokens):\n",
        "  words_filtered_en = [w for w in word_tokens if not w in stop_words_en]\n",
        "  return words_filtered_en\n",
        "  \n",
        "def stopWordsTextSpanish(word_tokens):\n",
        "  words_filtered_es = [w for w in word_tokens if not w in stop_words_es]\n",
        "  return words_filtered_es\n",
        "\n",
        "def tokenizeTweet(text):\n",
        "  out_ = ''\n",
        "\n",
        "  #No url\n",
        "  text = re.sub(r\"http\\S+\", \"\", text)\n",
        "  \n",
        "  #Remove numbers from tweet\n",
        "  text = re.sub(r'\\d+', '', text)\n",
        "\n",
        "  #Replace # with empty\n",
        "  text = text.replace(' # ','')\n",
        "\n",
        "  #Remove symbols from tweet\n",
        "  text = re.sub(r'\\W', ' ', text)\n",
        "  #text = \"\".join([char.lower() for char in text if char not in excluded]) \n",
        "  \n",
        "  # remove all single characters\n",
        "  text = re.sub(r'\\s+[a-zA-Z]\\s+', ' ', text)\n",
        "\n",
        "  # Remove single characters from the start\n",
        "  text = re.sub(r'\\^[a-zA-Z]\\s+', ' ', text) \n",
        "\n",
        "  #No double space\n",
        "  text = re.sub('\\s+', ' ', text).strip()\n",
        "\n",
        "  #Remove short words\n",
        "  text = re.sub(r'\\b\\w{1,3}\\b', '', text)\n",
        "\n",
        "  terms = tknzr.tokenize(text)\n",
        "\n",
        "  words_filtered_en = stopWordsTextEnglish(terms)\n",
        "  words_filtered_es = stopWordsTextEnglish(terms)\n",
        "\n",
        "  for token in words_filtered_es:\n",
        "      out_ += lemmatizer.lemmatize(token.lower()) + \" \"\n",
        "      #out_ += stemmer.stem(token.lower()) + \" \"\n",
        "  return out_"
      ],
      "execution_count": null,
      "outputs": [
        {
          "output_type": "stream",
          "text": [
            "[nltk_data] Downloading package stopwords to /root/nltk_data...\n",
            "[nltk_data]   Unzipping corpora/stopwords.zip.\n",
            "[nltk_data] Downloading package wordnet to /root/nltk_data...\n",
            "[nltk_data]   Unzipping corpora/wordnet.zip.\n"
          ],
          "name": "stdout"
        }
      ]
    },
    {
      "cell_type": "code",
      "metadata": {
        "id": "O6CC3BQ83xHg",
        "colab": {
          "base_uri": "https://localhost:8080/"
        },
        "outputId": "6aa8b32c-b3b1-4d7d-8675-d16de23fbdc6"
      },
      "source": [
        "tknzr = TweetTokenizer(strip_handles=True, reduce_len=True)\n",
        "s1 = '@remy: #earthquake This 4 . # is waaaaayyyy too much for yo!!!!!! https://mail.google.com/mail/u/0/#inbox'\n",
        "\n",
        "text= tokenizeTweet(s1)\n",
        "tknzr.tokenize(text)"
      ],
      "execution_count": null,
      "outputs": [
        {
          "output_type": "execute_result",
          "data": {
            "text/plain": [
              "['remy', 'earthquake', 'this', 'waaayyy', 'much']"
            ]
          },
          "metadata": {
            "tags": []
          },
          "execution_count": 8
        }
      ]
    },
    {
      "cell_type": "code",
      "metadata": {
        "id": "aGNp_ny_zFD5",
        "colab": {
          "base_uri": "https://localhost:8080/"
        },
        "outputId": "ccea39d1-142e-4c78-f6bb-5090a1a41910"
      },
      "source": [
        "tweets_preprocessed = []\n",
        "for tweet in trainingFrame.iloc[:, 1]:\n",
        "  tweets_preprocessed.append(tokenizeTweet(tweet))\n",
        "\n",
        "print(len(tweets_preprocessed))\n",
        "trainingFrame['tweets_preprocessed'] = tweets_preprocessed\n",
        "\n",
        "print(trainingFrame.shape)\n",
        "\n",
        "tweets_preprocessed = []\n",
        "for tweet in testingFrame.iloc[:, 1]:\n",
        "  tweets_preprocessed.append(tokenizeTweet(tweet))\n",
        "testingFrame['tweets_preprocessed'] = tweets_preprocessed"
      ],
      "execution_count": null,
      "outputs": [
        {
          "output_type": "stream",
          "text": [
            "2553\n",
            "(2553, 3)\n"
          ],
          "name": "stdout"
        }
      ]
    },
    {
      "cell_type": "code",
      "metadata": {
        "id": "fzWZLPFP2v8r",
        "colab": {
          "base_uri": "https://localhost:8080/"
        },
        "outputId": "c96b0946-5d4c-4e5a-d844-420424c8e14a"
      },
      "source": [
        "trainingFrame.iloc[:, 1].head(10) #These are the tweets without any manipulation"
      ],
      "execution_count": null,
      "outputs": [
        {
          "output_type": "execute_result",
          "data": {
            "text/plain": [
              "0                        Let's all keep Chile and our friends in our thoughts and prayers #chile #earthquake\n",
              "1                      Residents flee 8.2 magnitude earthquake strikes northern Chile http://t.co/g24JIoWRhD\n",
              "2                                                              Our thoughts are with you. #PrayForChile __F\n",
              "3    Powerful 8.2-magnitude earthquake off Chile kills at least 5, forces evacuations http://t.co/JREYgI1Pgd\n",
              "4                                                                                  pray for Chile.. #tsunami\n",
              "5        Tsunami-triggering earthquake strikes Chile,kills 5, releases 300åÊprisoners http://t.co/Kwb4WXNDi0\n",
              "6                                                                8,2 SR earthquake and tsunami #prayforChile\n",
              "7                                                                                    #PrayForChile stay safe\n",
              "8                          Chile Earthquake: Deadly Magnitude-8.2 Temblor Rocks Coast http://t.co/p0XhkZgumN\n",
              "9                                          Magnitude 8.3 earthquake, causing 5 person's death. #PrayForChile\n",
              "Name:  tweet_text, dtype: object"
            ]
          },
          "metadata": {
            "tags": []
          },
          "execution_count": 10
        }
      ]
    },
    {
      "cell_type": "code",
      "metadata": {
        "id": "at3A149E1VO-",
        "colab": {
          "base_uri": "https://localhost:8080/"
        },
        "outputId": "ead4024d-ee85-4485-8fc3-0a482f9668b8"
      },
      "source": [
        "trainingFrame['tweets_preprocessed'].head(10) #These are the tweets preprocessed at training data"
      ],
      "execution_count": null,
      "outputs": [
        {
          "output_type": "execute_result",
          "data": {
            "text/plain": [
              "0                      keep chile friend thought prayer chile earthquake \n",
              "1               resident flee magnitude earthquake strike northern chile \n",
              "2                                                   thought prayforchile \n",
              "3        powerful magnitude earthquake chile kill least force evacuation \n",
              "4                                                     pray chile tsunami \n",
              "5    tsunami triggering earthquake strike chile kill release åêprisoners \n",
              "6                                        earthquake tsunami prayforchile \n",
              "7                                                 prayforchile stay safe \n",
              "8                   chile earthquake deadly magnitude temblor rock coast \n",
              "9                 magnitude earthquake causing person death prayforchile \n",
              "Name: tweets_preprocessed, dtype: object"
            ]
          },
          "metadata": {
            "tags": []
          },
          "execution_count": 11
        }
      ]
    },
    {
      "cell_type": "code",
      "metadata": {
        "id": "CGUUd20z8BkL",
        "colab": {
          "base_uri": "https://localhost:8080/"
        },
        "outputId": "237b1da0-c404-47a5-9fa3-623762a625d8"
      },
      "source": [
        "testingFrame['tweets_preprocessed'].head(10) #These are the tweets preprocessed at testing data"
      ],
      "execution_count": null,
      "outputs": [
        {
          "output_type": "execute_result",
          "data": {
            "text/plain": [
              "0                         affected earthquake india nepal bhutan stay safe help others form equake \n",
              "1                                                odile remnant could bring more flooding southwest \n",
              "2                 iceland evacuates area near bardabunga volcano over eruption concern socialmedia \n",
              "3                          malaysian come short buying pound penis enlarger whereisthefuckingplane \n",
              "4       scary time friend mers middle east respiratory syndrome took life must need careful friend \n",
              "5                                 rain lash disaster weary philippine typhoon nears world politics \n",
              "6    advice cyclone nathan category moving slowly southwest towards coast tcnathan tcnathan bigwet \n",
              "Name: tweets_preprocessed, dtype: object"
            ]
          },
          "metadata": {
            "tags": []
          },
          "execution_count": 12
        }
      ]
    },
    {
      "cell_type": "markdown",
      "metadata": {
        "id": "HEmMNUQTLGvU"
      },
      "source": [
        "# Vectorizing the tweets"
      ]
    },
    {
      "cell_type": "markdown",
      "metadata": {
        "id": "NkAeJFPHDiEO"
      },
      "source": [
        "Now we proceed to vectorize the pre-processed tweets. Following the paper, we should implement an Tf-Idf vectorizer and generate for each tweet a vector represenation. The paper doesn't give any specification on which other feature to use on the vectorizer. Because of that, we took different approaches in an empirical way. "
      ]
    },
    {
      "cell_type": "code",
      "metadata": {
        "id": "ECnC2C47po7f",
        "colab": {
          "base_uri": "https://localhost:8080/"
        },
        "outputId": "ffdb146a-be70-4371-9fca-dc8789913adf"
      },
      "source": [
        "from sklearn.feature_extraction.text import CountVectorizer, TfidfTransformer, TfidfVectorizer\n",
        "\n",
        "vectorizer = TfidfVectorizer(stop_words = 'english', binary=True, min_df=0.07, strip_accents='unicode', \n",
        "                             lowercase=True, sublinear_tf=True)\n",
        "\n",
        "train = vectorizer.fit_transform(trainingFrame['tweets_preprocessed'])\n",
        "test = vectorizer.transform(testingFrame['tweets_preprocessed'])\n",
        "print(vectorizer.get_feature_names())\n",
        "print(train.shape)"
      ],
      "execution_count": null,
      "outputs": [
        {
          "output_type": "stream",
          "text": [
            "['chile', 'cyclone', 'earthquake', 'hagupit', 'iceland', 'mers', 'philippine', 'typhoon', 'vanuatu', 'volcano']\n",
            "(2553, 10)\n"
          ],
          "name": "stdout"
        }
      ]
    },
    {
      "cell_type": "code",
      "metadata": {
        "id": "tsNf-S-ldcuk",
        "colab": {
          "base_uri": "https://localhost:8080/"
        },
        "outputId": "6c2b505a-cfc8-46b4-d1ff-b2a3936084c9"
      },
      "source": [
        "train_dense = train.todense()\n",
        "\n",
        "print(type(train_dense))\n",
        "print(train_dense[0])\n",
        "print(train_dense[1])\n",
        "print(train_dense[2])\n",
        "print(train_dense[3])"
      ],
      "execution_count": null,
      "outputs": [
        {
          "output_type": "stream",
          "text": [
            "<class 'numpy.matrix'>\n",
            "[[0.70042404 0.         0.71372696 0.         0.         0.\n",
            "  0.         0.         0.         0.        ]]\n",
            "[[0.70042404 0.         0.71372696 0.         0.         0.\n",
            "  0.         0.         0.         0.        ]]\n",
            "[[0. 0. 0. 0. 0. 0. 0. 0. 0. 0.]]\n",
            "[[0.70042404 0.         0.71372696 0.         0.         0.\n",
            "  0.         0.         0.         0.        ]]\n"
          ],
          "name": "stdout"
        }
      ]
    },
    {
      "cell_type": "code",
      "metadata": {
        "id": "37sm_qJDVaLc",
        "colab": {
          "base_uri": "https://localhost:8080/",
          "height": 265
        },
        "outputId": "88342d80-6ebb-4772-9fb1-5c4018e0843d"
      },
      "source": [
        "from sklearn.decomposition import PCA\n",
        "import matplotlib.pyplot as plt\n",
        "from sklearn.pipeline import Pipeline\n",
        "from sklearn.feature_extraction.text import CountVectorizer, TfidfTransformer, TfidfVectorizer\n",
        "\n",
        "'''pipeline = Pipeline([\n",
        "    ('vect', TfidfVectorizer(stop_words = 'english', binary=True, min_df=0.07, strip_accents='unicode', \n",
        "                             lowercase=True, sublinear_tf=True)),\n",
        "    ('tfidf', TfidfTransformer()),\n",
        "])'''\n",
        "\n",
        "X = train.todense()\n",
        "\n",
        "pca = PCA(n_components=2).fit(X)\n",
        "data2D = pca.transform(X)\n",
        "plt.scatter(data2D[:,0], data2D[:,1])\n",
        "plt.show()     "
      ],
      "execution_count": null,
      "outputs": [
        {
          "output_type": "display_data",
          "data": {
            "image/png": "[encoded data removed]",
            "text/plain": [
              "<Figure size 432x288 with 1 Axes>"
            ]
          },
          "metadata": {
            "tags": [],
            "needs_background": "light"
          }
        }
      ]
    },
    {
      "cell_type": "markdown",
      "metadata": {
        "id": "B8G5OWResSts"
      },
      "source": [
        "# Similarity calculation\n"
      ]
    },
    {
      "cell_type": "markdown",
      "metadata": {
        "id": "C543dZ2FFNG2"
      },
      "source": [
        "According to the paper, we take the first tweet and uses it to form a cluster. For each incoming tweet, T, the algorithm computes its similarity with any existing clusters. Let C be the cluster that has the maximum similarity with T. If sim(T, C) is greater than a threshold d, which is to be determined empirically, tweet T is added to the cluster C; otherwise, a new cluster is formed based on T. We define the function sim(T, C) to be the similarity between tweet T and cluster C. \n",
        "\n",
        "In the clustering process, whenever a new tweet T is added to a cluster C, the centroid of C is updated as the normalized vector sum of all the tweets in C.\n",
        "\n",
        "In the paper, they use two similarity measures: cosine similarity and\n",
        "Jaccard similarity.\n",
        "\n",
        "Mainly because of noisy nature of text and specially twitter, the algorithm could lead to a large number of clusters, many of which might not correspond to events of interest. We overcome this problem by filtering out unimportant tweets using the burst-detection module and allowing only tweets that contain bursty features to form clusters. \n",
        "\n",
        "We thus dramatically reduce the number of clusters and only maintain a list of topic clusters associated with realworld events."
      ]
    },
    {
      "cell_type": "markdown",
      "metadata": {
        "id": "9nu1DIuuVo7W"
      },
      "source": [
        "### Cosine similarity"
      ]
    },
    {
      "cell_type": "code",
      "metadata": {
        "id": "WOnKZ1Tk2pTx",
        "colab": {
          "base_uri": "https://localhost:8080/"
        },
        "outputId": "0290f93b-5e1f-4684-a39a-7159e1d23744"
      },
      "source": [
        "import numpy as np\n",
        "import numpy.linalg as LA\n",
        "from sklearn.metrics.pairwise import cosine_similarity\n",
        "from sklearn.metrics import jaccard_score\n",
        "\n",
        "#cosineSimilarity = lambda a, b : round(np.inner(a, b)/(LA.norm(a)*LA.norm(b)), 3)\n",
        "#print(cosineSimilarity(train.toarray()[0], test.toarray()[0]))\n",
        "\n",
        "group = []\n",
        "CosineGroup = []\n",
        "CosineTweet = []\n",
        "def onlineClusterCosineAlgorithm(tweets):\n",
        "  centroids = np.zeros(shape=(1,tweets[0].shape[1]))\n",
        "  NTweets = np.zeros(shape=(1,1))\n",
        "  #Assign first tweet as a new cluster\n",
        "  centroids = np.vstack((centroids, tweets[0]))\n",
        "  centroids = np.delete(centroids, 0, 0)\n",
        "\n",
        "  print(tweets.shape)\n",
        "\n",
        "  NTweets = np.vstack((NTweets, 1))\n",
        "  NTweets = np.delete(NTweets, 0, 0)\n",
        "  for tweet in tweets:\n",
        "    distanceValue = cosine_similarity(tweet, centroids)\n",
        "    \n",
        "    maxValue = np.amax(distanceValue[0])\n",
        "    maxIndex = np.where(distanceValue[0] == maxValue)[0][0]\n",
        "    if(maxValue>0.2):\n",
        "      centroids[maxIndex] = (tweet + centroids[maxIndex]) / 2.0\n",
        "      NTweets[maxIndex] = NTweets[maxIndex] + 1\n",
        "      group.append(maxIndex)\n",
        "      CosineGroup.append(maxIndex)\n",
        "      CosineTweet.append(tweet)\n",
        "    else:\n",
        "      if(np.count_nonzero(tweet)>0):\n",
        "        centroids = np.vstack((centroids, tweet))\n",
        "        NTweets = np.vstack((NTweets, 1))\n",
        "        CosineGroup.append(centroids.shape[1])\n",
        "        group.append(centroids.shape[1])\n",
        "        CosineTweet.append(tweet)\n",
        "      else:\n",
        "        group.append(-1)\n",
        "  print(\"# centroids \", centroids.shape)\n",
        "  return centroids, NTweets\n",
        "\n",
        "centroides, NTweets = onlineClusterCosineAlgorithm(train.todense())\n",
        "NTweets"
      ],
      "execution_count": null,
      "outputs": [
        {
          "output_type": "stream",
          "text": [
            "(2553, 10)\n",
            "# centroids  (8, 10)\n"
          ],
          "name": "stdout"
        },
        {
          "output_type": "execute_result",
          "data": {
            "text/plain": [
              "array([[404.],\n",
              "       [ 18.],\n",
              "       [293.],\n",
              "       [163.],\n",
              "       [413.],\n",
              "       [187.],\n",
              "       [187.],\n",
              "       [191.]])"
            ]
          },
          "metadata": {
            "tags": []
          },
          "execution_count": 16
        }
      ]
    },
    {
      "cell_type": "code",
      "metadata": {
        "id": "16by1Pe9Ruq_",
        "colab": {
          "base_uri": "https://localhost:8080/"
        },
        "outputId": "5aff3924-0d52-4596-ea0a-78a891f4e962"
      },
      "source": [
        "trainingFrame['cluster'] = group\n",
        "trainingFrame = trainingFrame.sort_values('cluster', ascending=False)\n",
        "print(trainingFrame[['tweet_id', 'tweets_preprocessed', 'cluster']].groupby(['cluster']).agg(['count']))"
      ],
      "execution_count": null,
      "outputs": [
        {
          "output_type": "stream",
          "text": [
            "        tweet_id tweets_preprocessed\n",
            "           count               count\n",
            "cluster                             \n",
            "-1           698                 698\n",
            " 0           403                 403\n",
            " 1            17                  17\n",
            " 2           292                 292\n",
            " 3           162                 162\n",
            " 4           412                 412\n",
            " 5           186                 186\n",
            " 6           186                 186\n",
            " 7           190                 190\n",
            " 10            7                   7\n"
          ],
          "name": "stdout"
        }
      ]
    },
    {
      "cell_type": "code",
      "metadata": {
        "id": "mvBE2w-RTcKs",
        "colab": {
          "base_uri": "https://localhost:8080/",
          "height": 265
        },
        "outputId": "f9821970-ab31-4eef-a1eb-f0acbabcab1e"
      },
      "source": [
        "X = centroides\n",
        "\n",
        "pca = PCA(n_components=2).fit(X)\n",
        "data2D = pca.transform(X)\n",
        "plt.scatter(data2D[:,0], data2D[:,1])\n",
        "plt.show()     "
      ],
      "execution_count": null,
      "outputs": [
        {
          "output_type": "display_data",
          "data": {
            "image/png": "[encoded data removed]",
            "text/plain": [
              "<Figure size 432x288 with 1 Axes>"
            ]
          },
          "metadata": {
            "tags": [],
            "needs_background": "light"
          }
        }
      ]
    },
    {
      "cell_type": "code",
      "metadata": {
        "id": "U9db2ThNFFFg",
        "colab": {
          "base_uri": "https://localhost:8080/"
        },
        "outputId": "3fd093fd-3299-4e3d-b2ea-1517d89854f7"
      },
      "source": [
        "x = np.array(CosineTweet)\n",
        "x = np.squeeze(x)\n",
        "\n",
        "cosineDf = pd.DataFrame()\n",
        "from sklearn import metrics\n",
        "cosineDf['tweets'] = CosineTweet\n",
        "cosineDf['cluster'] = CosineGroup\n",
        "\n",
        "print(\"Silhouette Coefficient: %0.3f\"\n",
        "      % metrics.silhouette_score(x, cosineDf['cluster'], metric='sqeuclidean'))"
      ],
      "execution_count": null,
      "outputs": [
        {
          "output_type": "stream",
          "text": [
            "Silhouette Coefficient: 0.596\n"
          ],
          "name": "stdout"
        }
      ]
    },
    {
      "cell_type": "markdown",
      "metadata": {
        "id": "sc0PvRGVtMa_"
      },
      "source": [
        "### Jaccard similarity calculation\n",
        "\n"
      ]
    },
    {
      "cell_type": "code",
      "metadata": {
        "id": "0ocgsgamtaAS",
        "colab": {
          "base_uri": "https://localhost:8080/"
        },
        "outputId": "05e3b678-efd0-4cf5-d0b2-a3806b53c845"
      },
      "source": [
        "def jacc_similarity(vector1, vector2):\n",
        "    jacc_num = 0\n",
        "    jacc_den = len(vector1)\n",
        "    for index in vector1:\n",
        "        if index in vector2:\n",
        "            jacc_num += 1\n",
        "            jacc_den -= 1\n",
        "    jacc_den += len(vector2)\n",
        "    return jacc_num / jacc_den\n",
        "\n",
        "JaccGroup = []\n",
        "JackTweet = []\n",
        "JackCluster = []\n",
        "def onlineClusterJaccardAlgorithm(tweets):\n",
        "  centroids = np.zeros(shape=(1,tweets[0].shape[1]))\n",
        "  NTweets = np.zeros(shape=(1,1))\n",
        "\n",
        "  #Assign first tweet as a new cluster\n",
        "  centroids = np.vstack((centroids, tweets[0]))\n",
        "  centroids = np.delete(centroids, 0, 0)\n",
        "\n",
        "  NTweets = np.vstack((NTweets, 1))\n",
        "  NTweets = np.delete(NTweets, 0, 0)\n",
        "  for tweet in tweets:\n",
        "    count = -1\n",
        "    maxIndex = -1\n",
        "    similarity =-1\n",
        "    for centroid in centroids:\n",
        "      wordsCentroid = np.where(centroid != 0)[1]\n",
        "      wordsTweet = np.where(tweet != 0)[1]\n",
        "      count+=1\n",
        "      if(len(wordsCentroid)!=0):\n",
        "        value = jacc_similarity(wordsTweet, wordsCentroid)\n",
        "        if(value > similarity):\n",
        "          similarity = value\n",
        "          maxIndex = count\n",
        "    \n",
        "    if(similarity>0.2):\n",
        "      centroids[maxIndex] = (tweet + centroids[maxIndex]) / 2.0\n",
        "      NTweets[maxIndex] = NTweets[maxIndex] + 1\n",
        "      JaccGroup.append(maxIndex)\n",
        "      JackCluster.append(maxIndex)\n",
        "      JackTweet.append(tweet)\n",
        "    else:\n",
        "      if(np.count_nonzero(tweet)>0):\n",
        "        centroids = np.vstack((centroids, tweet))\n",
        "        NTweets = np.vstack((NTweets, 1))\n",
        "        JaccGroup.append(centroids.shape[1])\n",
        "        JackCluster.append(maxIndex)\n",
        "        JackTweet.append(tweet)\n",
        "      else:\n",
        "        JaccGroup.append(-1)\n",
        "    #print(\"Similarity: \",similarity)\n",
        "    #print(\"Centroid: \",maxIndex)\n",
        "  print(\"# centroids jaccard: \", centroids.shape)\n",
        "  return centroids, NTweets\n",
        "\n",
        "JaccCentroides, JaccNTweets = onlineClusterJaccardAlgorithm(train.todense())\n",
        "JaccNTweets"
      ],
      "execution_count": null,
      "outputs": [
        {
          "output_type": "stream",
          "text": [
            "# centroids jaccard:  (7, 10)\n"
          ],
          "name": "stdout"
        },
        {
          "output_type": "execute_result",
          "data": {
            "text/plain": [
              "array([[416.],\n",
              "       [302.],\n",
              "       [319.],\n",
              "       [232.],\n",
              "       [257.],\n",
              "       [ 81.],\n",
              "       [249.]])"
            ]
          },
          "metadata": {
            "tags": []
          },
          "execution_count": 20
        }
      ]
    },
    {
      "cell_type": "code",
      "metadata": {
        "id": "nokg-vdOTkhU",
        "colab": {
          "base_uri": "https://localhost:8080/"
        },
        "outputId": "da266ae1-0b52-4344-aa44-ffe536231d2d"
      },
      "source": [
        "trainingFrame['Jackcluster'] = JaccGroup\n",
        "trainingFrame = trainingFrame.sort_values('Jackcluster', ascending=False)\n",
        "print(trainingFrame[['tweet_id', 'tweets_preprocessed', 'Jackcluster']].groupby(['Jackcluster']).agg(['count']))"
      ],
      "execution_count": null,
      "outputs": [
        {
          "output_type": "stream",
          "text": [
            "            tweet_id tweets_preprocessed\n",
            "               count               count\n",
            "Jackcluster                             \n",
            "-1               698                 698\n",
            " 0               415                 415\n",
            " 1               301                 301\n",
            " 2               318                 318\n",
            " 3               231                 231\n",
            " 4               256                 256\n",
            " 5                80                  80\n",
            " 6               248                 248\n",
            " 10                6                   6\n"
          ],
          "name": "stdout"
        }
      ]
    },
    {
      "cell_type": "code",
      "metadata": {
        "id": "j4Ixw-lTTuUa",
        "colab": {
          "base_uri": "https://localhost:8080/",
          "height": 265
        },
        "outputId": "d3256d64-01af-49eb-c2cf-492ff6207d7e"
      },
      "source": [
        "X = JaccCentroides\n",
        "\n",
        "pca = PCA(n_components=2).fit(X)\n",
        "data2D = pca.transform(X)\n",
        "plt.scatter(data2D[:,0], data2D[:,1])\n",
        "plt.show()     "
      ],
      "execution_count": null,
      "outputs": [
        {
          "output_type": "display_data",
          "data": {
            "image/png": "[encoded data removed]",
            "text/plain": [
              "<Figure size 432x288 with 1 Axes>"
            ]
          },
          "metadata": {
            "tags": [],
            "needs_background": "light"
          }
        }
      ]
    },
    {
      "cell_type": "code",
      "metadata": {
        "id": "fdgos85IGew6",
        "colab": {
          "base_uri": "https://localhost:8080/"
        },
        "outputId": "546264dd-5514-48cc-b100-4a8190ef6f4b"
      },
      "source": [
        "t = np.array(JackTweet)\n",
        "t = np.squeeze(t)\n",
        "\n",
        "jaccDf = pd.DataFrame()\n",
        "\n",
        "jaccDf['tweets'] = JackTweet\n",
        "jaccDf['cluster'] = JackCluster\n",
        "\n",
        "print(\"Silhouette Coefficient: %0.3f\"\n",
        "      % metrics.silhouette_score(t, jaccDf['cluster'], metric='sqeuclidean'))"
      ],
      "execution_count": null,
      "outputs": [
        {
          "output_type": "stream",
          "text": [
            "Silhouette Coefficient: 0.643\n"
          ],
          "name": "stdout"
        }
      ]
    },
    {
      "cell_type": "markdown",
      "metadata": {
        "id": "IspnFb9rFtlI"
      },
      "source": [
        "# Other clustering algorithms"
      ]
    },
    {
      "cell_type": "code",
      "metadata": {
        "id": "x8S4IGSTDuuu"
      },
      "source": [
        "from sklearn.cluster import KMeans\n",
        "\n",
        "kMeansClustering = KMeans(n_clusters=7, init='k-means++', n_init=30, max_iter=250, random_state=42)\n",
        "preds = kMeansClustering.fit_predict(train.todense())"
      ],
      "execution_count": null,
      "outputs": []
    },
    {
      "cell_type": "code",
      "metadata": {
        "id": "RFPBuL2ST4yW",
        "colab": {
          "base_uri": "https://localhost:8080/",
          "height": 265
        },
        "outputId": "72c667e0-4db0-4d3a-bd4f-ab258912a0c9"
      },
      "source": [
        "X = kMeansClustering.cluster_centers_\n",
        "\n",
        "pca = PCA(n_components=2).fit(X)\n",
        "data2D = pca.transform(X)\n",
        "plt.scatter(data2D[:,0], data2D[:,1])\n",
        "plt.show()     "
      ],
      "execution_count": null,
      "outputs": [
        {
          "output_type": "display_data",
          "data": {
            "image/png": "[encoded data removed]",
            "text/plain": [
              "<Figure size 432x288 with 1 Axes>"
            ]
          },
          "metadata": {
            "tags": [],
            "needs_background": "light"
          }
        }
      ]
    },
    {
      "cell_type": "code",
      "metadata": {
        "id": "7N6ZgKY7HCxf",
        "colab": {
          "base_uri": "https://localhost:8080/",
          "height": 33
        },
        "outputId": "a7080dd4-e189-4e52-91fd-f0f45702fc2a"
      },
      "source": [
        "print(\"Silhouette Coefficient: %0.3f\"\n",
        "      % metrics.silhouette_score(train.todense(), preds, metric='sqeuclidean'))"
      ],
      "execution_count": null,
      "outputs": [
        {
          "output_type": "stream",
          "text": [
            "Silhouette Coefficient: 0.755\n"
          ],
          "name": "stdout"
        }
      ]
    },
    {
      "cell_type": "markdown",
      "metadata": {
        "id": "fBqRL-kUS8G6"
      },
      "source": [
        "# Results of algorithms"
      ]
    },
    {
      "cell_type": "code",
      "metadata": {
        "id": "qiEgl_VMTDie",
        "colab": {
          "base_uri": "https://localhost:8080/"
        },
        "outputId": "73241040-40c0-4571-bcd6-03e6630508bb"
      },
      "source": [
        "print(\"Number of clusters Cosine: \",len(centroides))\n",
        "for centroid in centroides:\n",
        "  count = 0\n",
        "  out = ''\n",
        "  for word in np.where(centroid != 0)[1]:\n",
        "    out = out + \" \"+vectorizer.get_feature_names()[word]\n",
        "  print(out)"
      ],
      "execution_count": null,
      "outputs": [
        {
          "output_type": "stream",
          "text": [
            "Number of clusters Cosine:  8\n",
            " chile earthquake\n",
            " earthquake volcano\n",
            " mers philippine\n",
            " cyclone hagupit philippine typhoon\n",
            " cyclone hagupit philippine typhoon vanuatu\n",
            " earthquake typhoon vanuatu volcano\n",
            " earthquake iceland volcano\n",
            " cyclone earthquake iceland philippine volcano\n"
          ],
          "name": "stdout"
        }
      ]
    },
    {
      "cell_type": "code",
      "metadata": {
        "id": "8LVPiclvTekT",
        "colab": {
          "base_uri": "https://localhost:8080/"
        },
        "outputId": "93a2bd49-86dd-4afd-b71a-e0d0e95339a7"
      },
      "source": [
        "print(\"Number of clusters Jaccard: \",len(JaccCentroides))\n",
        "for centroid in JaccCentroides:\n",
        "  count = 0\n",
        "  out = ''\n",
        "  for word in np.where(centroid != 0)[1]:\n",
        "    out = out + \" \"+vectorizer.get_feature_names()[word]\n",
        "  print(out)"
      ],
      "execution_count": null,
      "outputs": [
        {
          "output_type": "stream",
          "text": [
            "Number of clusters Jaccard:  7\n",
            " chile earthquake vanuatu\n",
            " mers philippine\n",
            " cyclone philippine typhoon vanuatu\n",
            " cyclone earthquake iceland vanuatu volcano\n",
            " earthquake iceland volcano\n",
            " philippine volcano\n",
            " cyclone hagupit philippine typhoon\n"
          ],
          "name": "stdout"
        }
      ]
    },
    {
      "cell_type": "code",
      "metadata": {
        "id": "SwhxSmn2UorK",
        "colab": {
          "base_uri": "https://localhost:8080/"
        },
        "outputId": "c9644543-6b44-4cc1-a505-95fa24697447"
      },
      "source": [
        "print(\"Number of clusters KMeans: \",len(kMeansClustering.cluster_centers_))\n",
        "for centroid in kMeansClustering.cluster_centers_:\n",
        "  count = 0\n",
        "  out = ''\n",
        "  for word in np.where(centroid > 0)[0]:\n",
        "    out = out + \" \"+vectorizer.get_feature_names()[word]\n",
        "  print(out)"
      ],
      "execution_count": null,
      "outputs": [
        {
          "output_type": "stream",
          "text": [
            "Number of clusters KMeans:  7\n",
            " cyclone earthquake hagupit iceland mers philippine typhoon volcano\n",
            " chile earthquake philippine typhoon volcano\n",
            " chile cyclone earthquake mers philippine typhoon volcano\n",
            " cyclone earthquake iceland mers volcano\n",
            " earthquake iceland mers philippine typhoon volcano\n",
            " earthquake hagupit iceland mers typhoon vanuatu volcano\n",
            " cyclone earthquake hagupit iceland mers typhoon vanuatu volcano\n"
          ],
          "name": "stdout"
        }
      ]
    }
  ]
}